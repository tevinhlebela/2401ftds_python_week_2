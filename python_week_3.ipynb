{
 "cells": [
  {
   "cell_type": "markdown",
   "metadata": {},
   "source": [
    "Write a Python function to check whether a number is divisible by another number. Accept two integer values from the user."
   ]
  },
  {
   "cell_type": "code",
   "execution_count": 2,
   "metadata": {},
   "outputs": [
    {
     "data": {
      "text/plain": [
       "True"
      ]
     },
     "execution_count": 2,
     "metadata": {},
     "output_type": "execute_result"
    }
   ],
   "source": [
    "def modula(a,b):\n",
    "    if a % b == 0:\n",
    "        return True\n",
    "    else:\n",
    "        return False"
   ]
  },
  {
   "cell_type": "markdown",
   "metadata": {},
   "source": [
    "Write a Python function to check whether a distinct pair of numbers whose product is odd is present in a sequence of integer values.\n",
    "\n",
    "*Pictorial Presentation of the sequence [2, 4, 6, 8]:*\n",
    "\n",
    "<img src=\"pictorial_presentation.png\">\n",
    "\n",
    "*Pictorial Presentation of the sequence [1, 6, 4, 7, 8]:*\n",
    "\n",
    "<img src=\"pictorial_presentation_true.png\">"
   ]
  },
  {
   "cell_type": "code",
   "execution_count": 2,
   "metadata": {},
   "outputs": [],
   "source": [
    "def odd_product(nums):\n",
    "    odd_nums = 0\n",
    "\n",
    "    for i in nums:\n",
    "        if i % 2 != 0:\n",
    "            odd_nums = odd_nums + 1\n",
    "            if odd_nums == 2:\n",
    "                return True\n",
    "        \n",
    "    return False\n",
    "        "
   ]
  },
  {
   "cell_type": "code",
   "execution_count": 3,
   "metadata": {},
   "outputs": [
    {
     "name": "stdout",
     "output_type": "stream",
     "text": [
      "[2, 4, 6, 8] False\n",
      "[1, 6, 4, 7, 8] True\n",
      "[1, 3, 5, 7, 9] True\n"
     ]
    }
   ],
   "source": [
    "# Define three lists of integers.\n",
    "dt1 = [2, 4, 6, 8]\n",
    "dt2 = [1, 6, 4, 7, 8]\n",
    "dt3 = [1, 3, 5, 7, 9]\n",
    "\n",
    "# Call the 'odd_product' function for each list and print the result.\n",
    "print(dt1, odd_product(dt1))\n",
    "print(dt2, odd_product(dt2))\n",
    "print(dt3, odd_product(dt3))"
   ]
  }
 ],
 "metadata": {
  "kernelspec": {
   "display_name": "Python 3",
   "language": "python",
   "name": "python3"
  },
  "language_info": {
   "codemirror_mode": {
    "name": "ipython",
    "version": 3
   },
   "file_extension": ".py",
   "mimetype": "text/x-python",
   "name": "python",
   "nbconvert_exporter": "python",
   "pygments_lexer": "ipython3",
   "version": "3.10.10"
  }
 },
 "nbformat": 4,
 "nbformat_minor": 2
}
